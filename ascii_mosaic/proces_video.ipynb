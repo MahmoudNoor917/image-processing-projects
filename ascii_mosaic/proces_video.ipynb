{
 "cells": [
  {
   "cell_type": "code",
   "execution_count": 1,
   "metadata": {},
   "outputs": [
    {
     "data": {
      "text/plain": [
       "<module 'Text2Img' from 'C:\\\\Users\\\\mohit\\\\Documents\\\\projects\\\\imaging_and_vision\\\\ascii_mosaic\\\\Text2Img.py'>"
      ]
     },
     "execution_count": 1,
     "metadata": {},
     "output_type": "execute_result"
    }
   ],
   "source": [
    "import cv2 \n",
    "from scipy.misc import imresize \n",
    "import moviepy.editor as moviepy\n",
    "from tqdm import tnrange, tqdm_notebook\n",
    "\n",
    "import AsciiMosaic #cvts all chars for pixel values \n",
    "import Text2Img #cvts specifics chars from text file to values \n",
    "\n",
    "import matplotlib.pyplot as plt \n",
    "%matplotlib inline\n",
    "\n",
    "import importlib\n",
    "importlib.reload(Text2Img)"
   ]
  },
  {
   "cell_type": "code",
   "execution_count": 2,
   "metadata": {},
   "outputs": [],
   "source": [
    "def translate(value, leftMin, leftMax, rightMin, rightMax):\n",
    "    '''a function to map values from one domain to another\n",
    "    for converting the iteration index to a parameter for the crop selection'''\n",
    "    # Figure out how 'wide' each range is\n",
    "    leftSpan = leftMax - leftMin\n",
    "    rightSpan = rightMax - rightMin\n",
    "\n",
    "    # Convert the left range into a 0-1 range (float)\n",
    "    valueScaled = float(value - leftMin) / float(leftSpan)\n",
    "\n",
    "    # Convert the 0-1 range into a value in the right range.\n",
    "    return rightMin + (valueScaled * rightSpan)"
   ]
  },
  {
   "cell_type": "code",
   "execution_count": 3,
   "metadata": {
    "scrolled": true
   },
   "outputs": [],
   "source": [
    "size = [1080, 1920]\n",
    "\n",
    "video_in = 'obama.mp4'\n",
    "video_out = 'tester.avi'\n",
    "orig_movie = moviepy.VideoFileClip(video_in) \n",
    "\n",
    "fourcc = cv2.VideoWriter_fourcc(*'XVID') #codec \n",
    "writer = cv2.VideoWriter(video_out, fourcc, orig_movie.fps, tuple(size[::-1]), False)\n",
    "\n",
    "mosiac = Text2Img.Processor(10) #choose your processor "
   ]
  },
  {
   "cell_type": "code",
   "execution_count": 4,
   "metadata": {
    "scrolled": true
   },
   "outputs": [
    {
     "data": {
      "application/vnd.jupyter.widget-view+json": {
       "model_id": "b5bcfdeda1a8421e8991d085bc07e0ce",
       "version_major": 2,
       "version_minor": 0
      },
      "text/plain": [
       "A Jupyter Widget"
      ]
     },
     "metadata": {},
     "output_type": "display_data"
    },
    {
     "name": "stdout",
     "output_type": "stream",
     "text": [
      "\n"
     ]
    }
   ],
   "source": [
    "scale = 100\n",
    "min_scale = 20\n",
    "shift = [0, 0]\n",
    "\n",
    "'''grab frame from video, process, resize, write to output'''\n",
    "for i in tnrange(int(orig_movie.fps * orig_movie.duration), desc='progress'): #\n",
    "    \n",
    "    #grab the next frame and process it \n",
    "    frame = imresize(orig_movie.get_frame(i/orig_movie.duration), 150)\n",
    "    ascii_img = mosiac.process_image(frame, shift = i//10)    \n",
    "\n",
    "    ascii_shp = ascii_img.shape\n",
    "    center = [int(x/2) for x in ascii_shp]\n",
    "    min_dims = [int(x*min_scale/100) for x in ascii_shp]\n",
    "    \n",
    "    '''adjust frame parameters'''\n",
    "    #frames to pan over\n",
    "    start1, end1 = 100, 300\n",
    "    start2, end2 = 400, 500\n",
    "    start3, end13 = 500, 700 \n",
    "    \n",
    "    i+= 100\n",
    "    if i > start1 and i <= end1: \n",
    "        '''scale down and push to left corner'''\n",
    "        scale = int(translate(i, start1, end1, 75, min_scale))\n",
    "        shift[0] = int(translate(i, start1, end1, 0, -(size[0]/2 - min_dims[0])))\n",
    "        shift[1] = int(translate(i, start1, end1, 0, -(size[1]/2 - min_dims[1])))\n",
    "         \n",
    "    elif i > start2 and i <= end2: \n",
    "        '''keep scale and move to right corner'''\n",
    "        shift[1] = int(translate(i, start2, end2, -(size[1]/2 - min_dims[1]), size[1]/2 - min_dims[1]))\n",
    "    \n",
    "    if i > start3 and i <= end13: \n",
    "        '''scale up and move to origin'''\n",
    "        scale = int(translate(i, start3, end13, min_scale, 100))\n",
    "        shift[0] = int(translate(i, start3, end13, -(ascii_shp[0]/2 - min_dims[0]), 0))\n",
    "        shift[1] = int(translate(i, start3, end13, (ascii_shp[1]/2 - min_dims[1]), 0))\n",
    "\n",
    "    #crop the selection determined by the above parameters \n",
    "    new_center = [sum(x) for x in zip(center, shift)]\n",
    "    rect_size_x, rect_size_y = [int(x/2*scale/100) for x in ascii_shp]\n",
    "\n",
    "    cropped = ascii_img[(new_center[0] - rect_size_x):(new_center[0] + rect_size_x),\n",
    "                        (new_center[1] - rect_size_y):(new_center[1] + rect_size_y)]\n",
    "\n",
    "#     print (shift, center, new_center)\n",
    "#     print (scale, rect_size_x, rect_size_y)\n",
    "#     print (ascii_shp, cropped.shape)\n",
    "#     print ((new_center[0] - rect_size_x), (new_center[0] + rect_size_x))\n",
    "#     print ((new_center[1] - rect_size_y), (new_center[1] + rect_size_y))\n",
    "#     print()\n",
    "    writer.write(imresize(cropped, size).astype('u1'))\n",
    "    \n",
    "writer.release()"
   ]
  },
  {
   "cell_type": "code",
   "execution_count": 5,
   "metadata": {},
   "outputs": [
    {
     "name": "stdout",
     "output_type": "stream",
     "text": [
      "[0, 0] [2700, 4800] [2700, 4800]\n",
      "100 2700 4800\n",
      "(5400, 9600) (5400, 9600)\n",
      "0 5400\n",
      "0 9600\n",
      "\n"
     ]
    }
   ],
   "source": [
    "print (shift, center, new_center)\n",
    "print (scale, rect_size_x, rect_size_y)\n",
    "print (ascii_shp, cropped.shape)\n",
    "print ((new_center[0] - rect_size_x), (new_center[0] + rect_size_x))\n",
    "print ((new_center[1] - rect_size_y), (new_center[1] + rect_size_y))\n",
    "print()"
   ]
  },
  {
   "cell_type": "code",
   "execution_count": 6,
   "metadata": {},
   "outputs": [
    {
     "data": {
      "text/plain": [
       "True"
      ]
     },
     "execution_count": 6,
     "metadata": {},
     "output_type": "execute_result"
    }
   ],
   "source": [
    "#for stopping early \n",
    "writer.release()\n",
    "cv2.imwrite('test_cropped.png', cropped)\n",
    "cv2.imwrite('test_full.png', ascii_img)"
   ]
  }
 ],
 "metadata": {
  "kernelspec": {
   "display_name": "Python 3",
   "language": "python",
   "name": "python3"
  },
  "language_info": {
   "codemirror_mode": {
    "name": "ipython",
    "version": 3
   },
   "file_extension": ".py",
   "mimetype": "text/x-python",
   "name": "python",
   "nbconvert_exporter": "python",
   "pygments_lexer": "ipython3",
   "version": "3.6.3"
  }
 },
 "nbformat": 4,
 "nbformat_minor": 2
}
