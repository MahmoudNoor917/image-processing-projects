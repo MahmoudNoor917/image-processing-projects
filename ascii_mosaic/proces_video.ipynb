{
 "cells": [
  {
   "cell_type": "code",
   "execution_count": 1,
   "metadata": {},
   "outputs": [
    {
     "data": {
      "text/plain": [
       "<module 'Text2Img' from 'C:\\\\Users\\\\mohit\\\\Documents\\\\python\\\\imaging_and_vision\\\\ascii_mosaic\\\\Text2Img.py'>"
      ]
     },
     "execution_count": 1,
     "metadata": {},
     "output_type": "execute_result"
    }
   ],
   "source": [
    "import cv2 \n",
    "from scipy.misc import imresize \n",
    "import moviepy.editor as moviepy\n",
    "from tqdm import tnrange, tqdm_notebook\n",
    "\n",
    "import AsciiMosaic #cvts all chars for pixel values \n",
    "import Text2Img #cvts specifics chars from text file to values \n",
    "\n",
    "import matplotlib.pyplot as plt \n",
    "%matplotlib inline\n",
    "\n",
    "import importlib\n",
    "importlib.reload(Text2Img)"
   ]
  },
  {
   "cell_type": "code",
   "execution_count": 2,
   "metadata": {},
   "outputs": [],
   "source": [
    "def translate(value, leftMin, leftMax, rightMin, rightMax):\n",
    "    '''a function to map values from one domain to another\n",
    "    for converting the iteration index to a parameter for the crop selection'''\n",
    "    # Figure out how 'wide' each range is\n",
    "    leftSpan = leftMax - leftMin\n",
    "    rightSpan = rightMax - rightMin\n",
    "\n",
    "    # Convert the left range into a 0-1 range (float)\n",
    "    valueScaled = float(value - leftMin) / float(leftSpan)\n",
    "\n",
    "    # Convert the 0-1 range into a value in the right range.\n",
    "    return rightMin + (valueScaled * rightSpan)"
   ]
  },
  {
   "cell_type": "code",
   "execution_count": 3,
   "metadata": {
    "scrolled": true
   },
   "outputs": [],
   "source": [
    "size = [1080, 1920]\n",
    "\n",
    "video_in = 'obama.mp4'\n",
    "video_out = 'tester.avi'\n",
    "orig_movie = moviepy.VideoFileClip(video_in) \n",
    "\n",
    "fourcc = cv2.VideoWriter_fourcc(*'XVID') #codec \n",
    "writer = cv2.VideoWriter(video_out, fourcc, orig_movie.fps, tuple(size[::-1]), False)\n",
    "\n",
    "mosiac = Text2Img.Processor(10) #choose your processor "
   ]
  },
  {
   "cell_type": "code",
   "execution_count": 4,
   "metadata": {
    "scrolled": true
   },
   "outputs": [
    {
     "data": {
      "application/vnd.jupyter.widget-view+json": {
       "model_id": "67b8968719c04b0c9a0c72b45cefed2c",
       "version_major": 2,
       "version_minor": 0
      },
      "text/plain": [
       "A Jupyter Widget"
      ]
     },
     "metadata": {},
     "output_type": "display_data"
    },
    {
     "ename": "KeyboardInterrupt",
     "evalue": "",
     "output_type": "error",
     "traceback": [
      "\u001b[1;31m---------------------------------------------------------------------------\u001b[0m",
      "\u001b[1;31mKeyboardInterrupt\u001b[0m                         Traceback (most recent call last)",
      "\u001b[1;32m<ipython-input-4-e8783b1857bb>\u001b[0m in \u001b[0;36m<module>\u001b[1;34m()\u001b[0m\n\u001b[0;32m      8\u001b[0m     \u001b[1;31m#grab the next frame and process it\u001b[0m\u001b[1;33m\u001b[0m\u001b[1;33m\u001b[0m\u001b[0m\n\u001b[0;32m      9\u001b[0m     \u001b[0mframe\u001b[0m \u001b[1;33m=\u001b[0m \u001b[0morig_movie\u001b[0m\u001b[1;33m.\u001b[0m\u001b[0mget_frame\u001b[0m\u001b[1;33m(\u001b[0m\u001b[0mi\u001b[0m\u001b[1;33m/\u001b[0m\u001b[0morig_movie\u001b[0m\u001b[1;33m.\u001b[0m\u001b[0mduration\u001b[0m\u001b[1;33m)\u001b[0m\u001b[1;33m\u001b[0m\u001b[0m\n\u001b[1;32m---> 10\u001b[1;33m     \u001b[0mascii_img\u001b[0m \u001b[1;33m=\u001b[0m \u001b[0mmosiac\u001b[0m\u001b[1;33m.\u001b[0m\u001b[0mprocess_image\u001b[0m\u001b[1;33m(\u001b[0m\u001b[0mimresize\u001b[0m\u001b[1;33m(\u001b[0m\u001b[0mframe\u001b[0m\u001b[1;33m,\u001b[0m \u001b[1;36m200\u001b[0m\u001b[1;33m)\u001b[0m\u001b[1;33m,\u001b[0m \u001b[0mshift\u001b[0m \u001b[1;33m=\u001b[0m \u001b[0mi\u001b[0m\u001b[1;33m//\u001b[0m\u001b[1;36m10\u001b[0m\u001b[1;33m)\u001b[0m\u001b[1;33m\u001b[0m\u001b[0m\n\u001b[0m\u001b[0;32m     11\u001b[0m     \u001b[0mascii_shp\u001b[0m \u001b[1;33m=\u001b[0m \u001b[0mascii_img\u001b[0m\u001b[1;33m.\u001b[0m\u001b[0mshape\u001b[0m\u001b[1;33m\u001b[0m\u001b[0m\n\u001b[0;32m     12\u001b[0m     \u001b[0mcenter\u001b[0m \u001b[1;33m=\u001b[0m \u001b[1;33m[\u001b[0m\u001b[0mint\u001b[0m\u001b[1;33m(\u001b[0m\u001b[0mx\u001b[0m\u001b[1;33m/\u001b[0m\u001b[1;36m2\u001b[0m\u001b[1;33m)\u001b[0m \u001b[1;32mfor\u001b[0m \u001b[0mx\u001b[0m \u001b[1;32min\u001b[0m \u001b[0mascii_shp\u001b[0m\u001b[1;33m]\u001b[0m\u001b[1;33m\u001b[0m\u001b[0m\n",
      "\u001b[1;32m~\\Documents\\python\\imaging_and_vision\\ascii_mosaic\\Text2Img.py\u001b[0m in \u001b[0;36mprocess_image\u001b[1;34m(self, input_image, shift)\u001b[0m\n\u001b[0;32m     98\u001b[0m         \u001b[0mself\u001b[0m\u001b[1;33m.\u001b[0m\u001b[0mcycle_transript\u001b[0m \u001b[1;33m=\u001b[0m \u001b[0mcycle\u001b[0m\u001b[1;33m(\u001b[0m\u001b[0mself\u001b[0m\u001b[1;33m.\u001b[0m\u001b[0mtranscipt\u001b[0m\u001b[1;33m)\u001b[0m \u001b[1;31m#reset for cyclcing through text chars\u001b[0m\u001b[1;33m\u001b[0m\u001b[0m\n\u001b[0;32m     99\u001b[0m \u001b[1;33m\u001b[0m\u001b[0m\n\u001b[1;32m--> 100\u001b[1;33m         \u001b[0mtemp\u001b[0m \u001b[1;33m=\u001b[0m \u001b[0mself\u001b[0m\u001b[1;33m.\u001b[0m\u001b[0mproject2ascii\u001b[0m\u001b[1;33m(\u001b[0m\u001b[0mself\u001b[0m\u001b[1;33m.\u001b[0m\u001b[0mimg\u001b[0m\u001b[1;33m)\u001b[0m \u001b[1;31m#map the characters to the pixels\u001b[0m\u001b[1;33m\u001b[0m\u001b[0m\n\u001b[0m\u001b[0;32m    101\u001b[0m \u001b[1;33m\u001b[0m\u001b[0m\n\u001b[0;32m    102\u001b[0m         \u001b[1;31m#temp is an array of arrays, so reformat to correct image dims\u001b[0m\u001b[1;33m\u001b[0m\u001b[1;33m\u001b[0m\u001b[0m\n",
      "\u001b[1;32m~\\Anaconda3\\lib\\site-packages\\numpy\\lib\\function_base.py\u001b[0m in \u001b[0;36m__call__\u001b[1;34m(self, *args, **kwargs)\u001b[0m\n\u001b[0;32m   2737\u001b[0m             \u001b[0mvargs\u001b[0m\u001b[1;33m.\u001b[0m\u001b[0mextend\u001b[0m\u001b[1;33m(\u001b[0m\u001b[1;33m[\u001b[0m\u001b[0mkwargs\u001b[0m\u001b[1;33m[\u001b[0m\u001b[0m_n\u001b[0m\u001b[1;33m]\u001b[0m \u001b[1;32mfor\u001b[0m \u001b[0m_n\u001b[0m \u001b[1;32min\u001b[0m \u001b[0mnames\u001b[0m\u001b[1;33m]\u001b[0m\u001b[1;33m)\u001b[0m\u001b[1;33m\u001b[0m\u001b[0m\n\u001b[0;32m   2738\u001b[0m \u001b[1;33m\u001b[0m\u001b[0m\n\u001b[1;32m-> 2739\u001b[1;33m         \u001b[1;32mreturn\u001b[0m \u001b[0mself\u001b[0m\u001b[1;33m.\u001b[0m\u001b[0m_vectorize_call\u001b[0m\u001b[1;33m(\u001b[0m\u001b[0mfunc\u001b[0m\u001b[1;33m=\u001b[0m\u001b[0mfunc\u001b[0m\u001b[1;33m,\u001b[0m \u001b[0margs\u001b[0m\u001b[1;33m=\u001b[0m\u001b[0mvargs\u001b[0m\u001b[1;33m)\u001b[0m\u001b[1;33m\u001b[0m\u001b[0m\n\u001b[0m\u001b[0;32m   2740\u001b[0m \u001b[1;33m\u001b[0m\u001b[0m\n\u001b[0;32m   2741\u001b[0m     \u001b[1;32mdef\u001b[0m \u001b[0m_get_ufunc_and_otypes\u001b[0m\u001b[1;33m(\u001b[0m\u001b[0mself\u001b[0m\u001b[1;33m,\u001b[0m \u001b[0mfunc\u001b[0m\u001b[1;33m,\u001b[0m \u001b[0margs\u001b[0m\u001b[1;33m)\u001b[0m\u001b[1;33m:\u001b[0m\u001b[1;33m\u001b[0m\u001b[0m\n",
      "\u001b[1;32m~\\Anaconda3\\lib\\site-packages\\numpy\\lib\\function_base.py\u001b[0m in \u001b[0;36m_vectorize_call\u001b[1;34m(self, func, args)\u001b[0m\n\u001b[0;32m   2813\u001b[0m                       for a in args]\n\u001b[0;32m   2814\u001b[0m \u001b[1;33m\u001b[0m\u001b[0m\n\u001b[1;32m-> 2815\u001b[1;33m             \u001b[0moutputs\u001b[0m \u001b[1;33m=\u001b[0m \u001b[0mufunc\u001b[0m\u001b[1;33m(\u001b[0m\u001b[1;33m*\u001b[0m\u001b[0minputs\u001b[0m\u001b[1;33m)\u001b[0m\u001b[1;33m\u001b[0m\u001b[0m\n\u001b[0m\u001b[0;32m   2816\u001b[0m \u001b[1;33m\u001b[0m\u001b[0m\n\u001b[0;32m   2817\u001b[0m             \u001b[1;32mif\u001b[0m \u001b[0mufunc\u001b[0m\u001b[1;33m.\u001b[0m\u001b[0mnout\u001b[0m \u001b[1;33m==\u001b[0m \u001b[1;36m1\u001b[0m\u001b[1;33m:\u001b[0m\u001b[1;33m\u001b[0m\u001b[0m\n",
      "\u001b[1;32m~\\Documents\\python\\imaging_and_vision\\ascii_mosaic\\Text2Img.py\u001b[0m in \u001b[0;36mproject2ascii\u001b[1;34m(self, pixel)\u001b[0m\n\u001b[0;32m     70\u001b[0m \u001b[1;31m#         print (np.allclose(char_img[~mask], out[~mask]))\u001b[0m\u001b[1;33m\u001b[0m\u001b[1;33m\u001b[0m\u001b[0m\n\u001b[0;32m     71\u001b[0m \u001b[1;33m\u001b[0m\u001b[0m\n\u001b[1;32m---> 72\u001b[1;33m         \u001b[0mout\u001b[0m \u001b[1;33m=\u001b[0m \u001b[0mcv2\u001b[0m\u001b[1;33m.\u001b[0m\u001b[0maddWeighted\u001b[0m\u001b[1;33m(\u001b[0m\u001b[0mout\u001b[0m\u001b[1;33m,\u001b[0m \u001b[1;36m0.8\u001b[0m\u001b[1;33m,\u001b[0m \u001b[0mcolor\u001b[0m\u001b[1;33m,\u001b[0m \u001b[1;36m0.2\u001b[0m\u001b[1;33m,\u001b[0m \u001b[1;36m1\u001b[0m\u001b[1;33m)\u001b[0m\u001b[1;33m\u001b[0m\u001b[0m\n\u001b[0m\u001b[0;32m     73\u001b[0m         \u001b[1;32mreturn\u001b[0m \u001b[0mout\u001b[0m\u001b[1;33m\u001b[0m\u001b[0m\n\u001b[0;32m     74\u001b[0m \u001b[1;33m\u001b[0m\u001b[0m\n",
      "\u001b[1;31mKeyboardInterrupt\u001b[0m: "
     ]
    }
   ],
   "source": [
    "scale = 100\n",
    "min_scale = 20\n",
    "shift = [0, 0]\n",
    "\n",
    "'''grab frame from video, process, resize, write to output'''\n",
    "for i in tnrange(int(orig_movie.fps * orig_movie.duration), desc='progress'): #\n",
    "    \n",
    "    #grab the next frame and process it \n",
    "    frame = orig_movie.get_frame(i/orig_movie.duration)\n",
    "    ascii_img = mosiac.process_image(imresize(frame, 200), shift = i//10)\n",
    "    ascii_shp = ascii_img.shape\n",
    "    center = [int(x/2) for x in ascii_shp]\n",
    "    min_dims = [int(x*min_scale/100) for x in ascii_shp]\n",
    "    \n",
    "    '''adjust frame parameters'''\n",
    "    #frames to pan over\n",
    "    start1, end1 = 100, 300\n",
    "    start2, end2 = 400, 500\n",
    "    start3, end13 = 500, 700 \n",
    "    \n",
    "    i+= 100\n",
    "    if i > start1 and i <= end1: \n",
    "        '''scale down and push to left corner'''\n",
    "        scale = int(translate(i, start1, end1, 75, min_scale))\n",
    "        shift[0] = int(translate(i, start1, end1, 0, -(size[0]/2 - min_dims[0])))\n",
    "        shift[1] = int(translate(i, start1, end1, 0, -(size[1]/2 - min_dims[1])))\n",
    "         \n",
    "    elif i > start2 and i <= end2: \n",
    "        '''keep scale and move to right corner'''\n",
    "        shift[1] = int(translate(i, start2, end2, -(size[1]/2 - min_dims[1]), size[1]/2 - min_dims[1]))\n",
    "    \n",
    "    if i > start3 and i <= end13: \n",
    "        '''scale up and move to origin'''\n",
    "        scale = int(translate(i, start3, end13, min_scale, 100))\n",
    "        shift[0] = int(translate(i, start3, end13, -(ascii_shp[0]/2 - min_dims[0]), 0))\n",
    "        shift[1] = int(translate(i, start3, end13, (ascii_shp[1]/2 - min_dims[1]), 0))\n",
    "\n",
    "    #crop the selection determined by the above parameters \n",
    "    new_center = [sum(x) for x in zip(center, shift)]\n",
    "    rect_size_x, rect_size_y = [int(x/2*scale/100) for x in ascii_shp]\n",
    "\n",
    "    cropped = ascii_img[(new_center[0] - rect_size_x):(new_center[0] + rect_size_x),\n",
    "                   (new_center[1] - rect_size_y):(new_center[1] + rect_size_y)]\n",
    "\n",
    "#     print (shift, center, new_center)\n",
    "#     print (scale, rect_size_x, rect_size_y)\n",
    "#     print (ascii_shp, cropped.shape)\n",
    "#     print ((new_center[0] - rect_size_x), (new_center[0] + rect_size_x))\n",
    "#     print ((new_center[1] - rect_size_y), (new_center[1] + rect_size_y))\n",
    "#     print()\n",
    "    writer.write(imresize(cropped, size).astype('u1'))\n",
    "    \n",
    "writer.release()"
   ]
  },
  {
   "cell_type": "code",
   "execution_count": null,
   "metadata": {},
   "outputs": [],
   "source": [
    "print (shift, center, new_center)\n",
    "print (scale, rect_size_x, rect_size_y)\n",
    "print (ascii_shp, cropped.shape)\n",
    "print ((new_center[0] - rect_size_x), (new_center[0] + rect_size_x))\n",
    "print ((new_center[1] - rect_size_y), (new_center[1] + rect_size_y))\n",
    "print()"
   ]
  },
  {
   "cell_type": "code",
   "execution_count": null,
   "metadata": {},
   "outputs": [],
   "source": []
  },
  {
   "cell_type": "code",
   "execution_count": 5,
   "metadata": {},
   "outputs": [
    {
     "data": {
      "text/plain": [
       "True"
      ]
     },
     "execution_count": 5,
     "metadata": {},
     "output_type": "execute_result"
    }
   ],
   "source": [
    "#for stopping early \n",
    "writer.release()\n",
    "cv2.imwrite('test_cropped.png', cropped)\n",
    "cv2.imwrite('test_full.png', ascii_img)"
   ]
  },
  {
   "cell_type": "code",
   "execution_count": 6,
   "metadata": {},
   "outputs": [],
   "source": [
    "import numpy as np "
   ]
  },
  {
   "cell_type": "code",
   "execution_count": null,
   "metadata": {},
   "outputs": [],
   "source": [
    "np.zeros_like()"
   ]
  }
 ],
 "metadata": {
  "kernelspec": {
   "display_name": "Python 3",
   "language": "python",
   "name": "python3"
  },
  "language_info": {
   "codemirror_mode": {
    "name": "ipython",
    "version": 3
   },
   "file_extension": ".py",
   "mimetype": "text/x-python",
   "name": "python",
   "nbconvert_exporter": "python",
   "pygments_lexer": "ipython3",
   "version": "3.6.3"
  }
 },
 "nbformat": 4,
 "nbformat_minor": 2
}
