{
 "cells": [
  {
   "cell_type": "markdown",
   "metadata": {},
   "source": [
    "<img src=\"obama/obama_ascii.gif\" style=\"float: right; width: 48%; margin-right: 1%;margin-bottom: 1%;\">\n",
    "<img src=\"obama/obama.jpg\" style=\"float: left; width: 48%; margin-right: 1%;\">\n",
    "----------------------------------------------\n",
    "\n",
    "# Images from ASCII characters \n",
    "\n",
    "The goal of this project is to replace an image's RGB values into ASCII characters to get a cool artistic effect. Its a pretty simple procedure. On a high level, all we need to do is map each ASCII character to to a pixel value, and do a point-wise pixel replacement, which in computer vision just means operate on each pixel throughout the image iteratively. To make things a little simpler, we'll grayscale our input image so we are mapping one pixel value, ranged [0-255], to one ASCII character. Here's some psuedo code: \n",
    "\n",
    "\n",
    "#### Setup \n",
    "    get ASCII characters (capital & lower case letters, digits)\n",
    "    create a .PNG for each ASCII character (square image)\n",
    "    map each ASCII .PNG to grayscale intensity [0, 255]\n",
    "    \n",
    "#### Image Preprocessing \n",
    "    read input image \n",
    "    grayscale \n",
    "    resize if wanted \n",
    "    init output image, which is the (size of the input image X side length of ASCII image)\n",
    "    \n",
    "#### Final Processing \n",
    "    for each pixel in the input image: \n",
    "        replace pixel with .PNG image \n",
    "    downsize output image back to image size (if wanted) \n",
    "    \n",
    "#### Make a GIF\n",
    "\n",
    "--------------------------------"
   ]
  },
  {
   "cell_type": "code",
   "execution_count": 1,
   "metadata": {
    "collapsed": true
   },
   "outputs": [],
   "source": [
    "import string \n",
    "from collections import defaultdict\n",
    "\n",
    "import cv2\n",
    "import numpy as np \n",
    "from scipy import misc\n",
    "import matplotlib.pyplot as plt\n",
    "%matplotlib inline\n",
    "\n",
    "import tqdm\n",
    "\n",
    "FONT = cv2.FONT_HERSHEY_DUPLEX\n",
    "SIZE = 15 #size of sides of ascii .PNG (square)\n",
    "\n",
    "#file names \n",
    "input_image = 'Florence1.jpg'\n",
    "output_image = 'florence_ascii.jpg'\n",
    "output_gif = 'florence_ascii.gif'"
   ]
  },
  {
   "cell_type": "code",
   "execution_count": 64,
   "metadata": {
    "collapsed": true,
    "scrolled": false
   },
   "outputs": [],
   "source": [
    "'''map ascii characters with the percentage of canvas they fill \n",
    "with color -- in a sortable dictionary (ascii_percent)'''\n",
    "\n",
    "chars = string.ascii_letters + string.digits #all the ascii characters \n",
    "ascii_percent = defaultdict(int)\n",
    "\n",
    "for i in range(len(chars)):\n",
    "    img = np.ones(shape=(28, 28))\n",
    "    cv2.putText(img, chars[i], (3, 25), FONT, 1, 0, 1)\n",
    "    ascii_percent[chars[i]] = 100 - (np.sum(img)/(28**2)*100)\n",
    "    \n",
    "    img = misc.imresize(img, (SIZE, SIZE))\n",
    "    if chars[i] in string.ascii_lowercase: \n",
    "        cv2.imwrite('chars/' + chars[i] + '_.png', img)\n",
    "    else: \n",
    "        cv2.imwrite('chars/' + chars[i] + '.png', img)\n",
    "    \n",
    "    \n",
    "#     plt.figure(figsize=(1, 1)); plt.imshow(img, cmap='gray'); plt.show()\n",
    "\n",
    "ascii_percent = sorted(ascii_percent.items(), key=lambda k_v: k_v[1]) #sort the dict by percent"
   ]
  },
  {
   "cell_type": "code",
   "execution_count": 65,
   "metadata": {
    "collapsed": true
   },
   "outputs": [],
   "source": [
    "'''scale percentages [0-255]'''\n",
    "mini = ascii_percent[0][1]\n",
    "maxi = ascii_percent[-1][1]\n",
    "\n",
    "def scaler(val):\n",
    "    return int(((val - mini )/ (maxi-mini))*255)"
   ]
  },
  {
   "cell_type": "code",
   "execution_count": 66,
   "metadata": {
    "collapsed": true,
    "scrolled": false
   },
   "outputs": [],
   "source": [
    "'''build look up table for pixel value [0-255] and ascii char square image'''\n",
    "\n",
    "ascii_lookup = {}\n",
    "for i in range(len(ascii_percent)):\n",
    "\n",
    "    if ascii_percent[i][0] in string.ascii_lowercase: \n",
    "        name = 'chars/' + ascii_percent[i][0] + '_.png'\n",
    "    else: \n",
    "        name = 'chars/' + ascii_percent[i][0] + '.png'\n",
    "    gray =  cv2.cvtColor(cv2.imread(name), cv2.COLOR_BGR2GRAY)\n",
    "    ascii_lookup[scaler(ascii_percent[i][1])] = gray\n"
   ]
  },
  {
   "cell_type": "code",
   "execution_count": 67,
   "metadata": {
    "collapsed": true
   },
   "outputs": [],
   "source": [
    "'''setup image conversion '''\n",
    "img = cv2.GaussianBlur(cv2.imread(input_image), (7, 7), 0) #open and denoise image \n",
    "# img = misc.imresize(img, 0.8) #make a little smaller \n",
    "img = cv2.cvtColor(img, cv2.COLOR_BGR2GRAY) #grayscale \n",
    "\n",
    "#init output image (larger for ascii image replacement)\n",
    "out  = np.ones(shape = tuple([i*SIZE for i in (img.shape)]))"
   ]
  },
  {
   "cell_type": "code",
   "execution_count": 68,
   "metadata": {},
   "outputs": [
    {
     "name": "stderr",
     "output_type": "stream",
     "text": [
      "100%|█████████████████████████████████████████████████████████████████████████████| 933/933 [02:19<00:00,  4.85it/s]\n"
     ]
    },
    {
     "data": {
      "text/plain": [
       "True"
      ]
     },
     "execution_count": 68,
     "metadata": {},
     "output_type": "execute_result"
    }
   ],
   "source": [
    "'''pointwise pixel replacement \n",
    "iterate through the pixels in the image and map the \n",
    "pixel value to a corresponding ASCII character which fills a \n",
    "similar percentage of its canvas '''\n",
    "\n",
    "for x in tqdm.tqdm(range(img.shape[0])):\n",
    "    for y in range(img.shape[1]):\n",
    "        pix = img[x][y]\n",
    "        #find the closest ascii PNG to the pixel value\n",
    "        closest = min(ascii_lookup, key=lambda x:abs(x-pix))\n",
    "        ascii_arr = ascii_lookup[closest]\n",
    "        \n",
    "        out_x, out_y = x*SIZE, y*SIZE\n",
    "        out[out_x:out_x+SIZE, out_y:out_y+SIZE] = ascii_arr\n",
    "cv2.imwrite(output_image, out)      "
   ]
  },
  {
   "cell_type": "code",
   "execution_count": 69,
   "metadata": {
    "scrolled": false
   },
   "outputs": [
    {
     "name": "stderr",
     "output_type": "stream",
     "text": [
      "100%|█████████████████████████████████████████████████████████████████████████████| 200/200 [00:58<00:00,  3.80it/s]\n"
     ]
    }
   ],
   "source": [
    "'''make a gif!'''\n",
    "\n",
    "import glob\n",
    "import imageio\n",
    "from natsort import natsorted\n",
    "\n",
    "#for video \n",
    "# fourcc = cv2.VideoWriter_fourcc(*'XVID')\n",
    "# writer = cv2.VideoWriter('tester.avi', fourcc, 15, out.shape[::-1], False)\n",
    "#     writer.write(resized)\n",
    "# writer.release()\n",
    "\n",
    "#create gif \n",
    "ascii_img = out.copy()\n",
    "with imageio.get_writer(output_gif, mode='I', fps=30) as writer:   \n",
    "    for i in tqdm.tqdm(range(200)): \n",
    "        a_shp = ascii_img.shape\n",
    "        a_shp5 = [int(a*0.01) for a in a_shp]\n",
    "        a_shp95 =[int(a*0.99) for a in a_shp]\n",
    "        ascii_img = ascii_img[a_shp5[0]:a_shp95[0],\n",
    "                              a_shp5[1]:a_shp95[1]].astype('u1')\n",
    "        resized = misc.imresize(ascii_img, img.shape)\n",
    "\n",
    "        writer.append_data(resized)\n",
    "        cv2.imwrite('gif/'+str(i)+'.png',  resized)"
   ]
  }
 ],
 "metadata": {
  "kernelspec": {
   "display_name": "Python 3",
   "language": "python",
   "name": "python3"
  },
  "language_info": {
   "codemirror_mode": {
    "name": "ipython",
    "version": 3
   },
   "file_extension": ".py",
   "mimetype": "text/x-python",
   "name": "python",
   "nbconvert_exporter": "python",
   "pygments_lexer": "ipython3",
   "version": "3.6.3"
  }
 },
 "nbformat": 4,
 "nbformat_minor": 2
}
