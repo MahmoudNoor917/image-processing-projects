{
 "cells": [
  {
   "cell_type": "markdown",
   "metadata": {},
   "source": [
    "# Keras Prototype CNN \n",
    "\n",
    "I am creating this notebook because I often need to build a Neural Net or CNN in Keras, and spend time looking up little things that I forget. Having all the useful functions in one place where I (or you) can easily copy and paste and adapt into new code is useful, so here you go, future me. \n",
    "\n",
    "## Arbitrary Dataset for Testing "
   ]
  },
  {
   "cell_type": "code",
   "execution_count": 1,
   "metadata": {},
   "outputs": [
    {
     "name": "stderr",
     "output_type": "stream",
     "text": [
      "Using TensorFlow backend.\n"
     ]
    }
   ],
   "source": [
    "from keras.datasets import cifar10\n",
    "\n",
    "(x_train, y_train), (x_test, y_test) = cifar10.load_data()"
   ]
  },
  {
   "cell_type": "code",
   "execution_count": 2,
   "metadata": {},
   "outputs": [],
   "source": [
    "## extract 0,1 for binary classification \n",
    "x_new = x_train.copy()\n",
    "y_new = y_train.copy()\n",
    "i = 0\n",
    "for x,y in zip(x_train, y_train):\n",
    "    if y<2:\n",
    "        y_new[i] = y\n",
    "        x_new[i] = x\n",
    "        i+= 1\n",
    "        \n",
    "y_train = y_new[:i]\n",
    "x_train = x_new[:i]"
   ]
  },
  {
   "cell_type": "markdown",
   "metadata": {},
   "source": [
    "## Imports"
   ]
  },
  {
   "cell_type": "code",
   "execution_count": 3,
   "metadata": {},
   "outputs": [],
   "source": [
    "from keras.models import Sequential \n",
    "from keras.layers import Flatten, Dense, Lambda, Dropout, Cropping2D\n",
    "from keras.regularizers import l2\n",
    "from keras.layers.convolutional import Convolution2D\n",
    "from keras.layers.pooling import MaxPooling2D\n",
    "from keras import losses\n",
    "from keras import optimizers \n",
    "from keras import metrics \n",
    "from keras.callbacks import TensorBoard, ModelCheckpoint, EarlyStopping"
   ]
  },
  {
   "cell_type": "markdown",
   "metadata": {},
   "source": [
    "## Within Model Image Processing \n",
    "\n",
    "use those lamda functions! "
   ]
  },
  {
   "cell_type": "code",
   "execution_count": 4,
   "metadata": {
    "collapsed": true
   },
   "outputs": [],
   "source": [
    "def resize(img, shape):\n",
    "    '''resizing within model: \n",
    "    -- import module within function to preserve reference when saving/loading\n",
    "    -- args: input image, shape == [height, width], no color channels (like cv2)\n",
    "    -- returns: resized image - keras compatable  \n",
    "    '''\n",
    "    from keras.backend import tf as ktf\n",
    "    return ktf.image.resize_images(img,shape)\n",
    "\n",
    "# ### --- PREPROCESSING WITHIN MODEL --- ####\n",
    "# model.add(Lambda(lambda x: (x / 127.5) - 1., input_shape = input_shape)) #normalize \n",
    "# model.add(Lambda(resize, input_shape=input_shape)) #resize \n",
    "# model.add(Cropping2D(cropping=((20, 15), (0, 0)), input_shape = input_shape)) #crop edges"
   ]
  },
  {
   "cell_type": "markdown",
   "metadata": {},
   "source": [
    "## Build Model \n",
    "\n",
    "note input shape may need to be changed as lambda layers are added"
   ]
  },
  {
   "cell_type": "code",
   "execution_count": 5,
   "metadata": {},
   "outputs": [
    {
     "name": "stdout",
     "output_type": "stream",
     "text": [
      "_________________________________________________________________\n",
      "Layer (type)                 Output Shape              Param #   \n",
      "=================================================================\n",
      "conv2d_1 (Conv2D)            (None, 30, 30, 32)        896       \n",
      "_________________________________________________________________\n",
      "max_pooling2d_1 (MaxPooling2 (None, 15, 15, 32)        0         \n",
      "_________________________________________________________________\n",
      "dropout_1 (Dropout)          (None, 15, 15, 32)        0         \n",
      "_________________________________________________________________\n",
      "conv2d_2 (Conv2D)            (None, 13, 13, 64)        18496     \n",
      "_________________________________________________________________\n",
      "max_pooling2d_2 (MaxPooling2 (None, 6, 6, 64)          0         \n",
      "_________________________________________________________________\n",
      "dropout_2 (Dropout)          (None, 6, 6, 64)          0         \n",
      "_________________________________________________________________\n",
      "flatten_1 (Flatten)          (None, 2304)              0         \n",
      "_________________________________________________________________\n",
      "dense_1 (Dense)              (None, 512)               1180160   \n",
      "_________________________________________________________________\n",
      "dropout_3 (Dropout)          (None, 512)               0         \n",
      "_________________________________________________________________\n",
      "dense_2 (Dense)              (None, 256)               131328    \n",
      "_________________________________________________________________\n",
      "dropout_4 (Dropout)          (None, 256)               0         \n",
      "_________________________________________________________________\n",
      "dense_3 (Dense)              (None, 64)                16448     \n",
      "_________________________________________________________________\n",
      "dropout_5 (Dropout)          (None, 64)                0         \n",
      "_________________________________________________________________\n",
      "dense_4 (Dense)              (None, 16)                1040      \n",
      "_________________________________________________________________\n",
      "dropout_6 (Dropout)          (None, 16)                0         \n",
      "_________________________________________________________________\n",
      "dense_5 (Dense)              (None, 1)                 17        \n",
      "=================================================================\n",
      "Total params: 1,348,385\n",
      "Trainable params: 1,348,385\n",
      "Non-trainable params: 0\n",
      "_________________________________________________________________\n"
     ]
    }
   ],
   "source": [
    "model = Sequential()\n",
    "\n",
    "###--- Convolutional Neural Network --- ### \n",
    "input_shape = (32, 32, 3)\n",
    "\n",
    "### conv. layers ### https://keras.io/layers/convolutional/\n",
    "model.add(Convolution2D(32, kernel_size=(3, 3), activation='relu', input_shape=input_shape))\n",
    "model.add(MaxPooling2D(pool_size=(2, 2)))\n",
    "model.add(Dropout(0.25))\n",
    "\n",
    "model.add(Convolution2D(64, (3, 3), activation='relu'))\n",
    "model.add(MaxPooling2D(pool_size=(2, 2)))\n",
    "model.add(Dropout(0.25))\n",
    "\n",
    "### fully connect layers \n",
    "model.add(Flatten())\n",
    "model.add(Dense(512, activation='relu'))\n",
    "model.add(Dropout(.5))\n",
    "\n",
    "model.add(Dense(256, activation='relu'))\n",
    "model.add(Dropout(.5))\n",
    "\n",
    "model.add(Dense(64, activation='relu'))\n",
    "model.add(Dropout(.3))\n",
    "\n",
    "model.add(Dense(16, activation='relu'))\n",
    "model.add(Dropout(.3))\n",
    "\n",
    "#final layer, \n",
    "model.add(Dense(1))\n",
    "\n",
    "\n",
    "# Summarize the model\n",
    "model.summary()"
   ]
  },
  {
   "cell_type": "markdown",
   "metadata": {},
   "source": [
    "## Compile Model"
   ]
  },
  {
   "cell_type": "code",
   "execution_count": 6,
   "metadata": {},
   "outputs": [],
   "source": [
    "loss = losses.mean_squared_error #binary_crossentropy, categorical_crossentropy\n",
    "optimizer= optimizers.Adam(lr=0.001, decay=0.0) #SGD\n",
    "metrics = ['accuracy']\n",
    "\n",
    "model.compile(loss=loss, optimizer=optimizer, metrics=metrics)"
   ]
  },
  {
   "cell_type": "markdown",
   "metadata": {},
   "source": [
    "## Create Callbacks \n",
    "\n",
    "for Model Checkpoints, Early Stopping and Tensorboard Visualizations "
   ]
  },
  {
   "cell_type": "code",
   "execution_count": 7,
   "metadata": {},
   "outputs": [
    {
     "name": "stderr",
     "output_type": "stream",
     "text": [
      "A subdirectory or file logs already exists.\n"
     ]
    }
   ],
   "source": [
    "#tensorboard object \n",
    "!mkdir logs\n",
    "tensorboard = TensorBoard(log_dir='./logs', histogram_freq=0,\n",
    "                          write_graph=True, write_images=False)\n",
    "\n",
    "\n",
    "#save model at every weight improvement \n",
    "# filepath=\"checkpoints/weights-improvement-{epoch:02d}-{val_acc:.2f}.hdf5\"\n",
    "#save and overwrite models when improved \n",
    "filepath=\"checkpoints/weights_best.h5\"\n",
    "\n",
    "!mkdir checkpoints\n",
    "checkpoint = ModelCheckpoint(filepath, monitor='val_acc',\n",
    "                             verbose=0, save_best_only=True, mode='max')\n",
    "\n",
    "early_stop = EarlyStopping(monitor='val_acc', min_delta=0.001, patience=3, verbose=0, mode='auto')\n",
    "\n",
    "callbacks_list = [checkpoint, tensorboard, early_stop]"
   ]
  },
  {
   "cell_type": "markdown",
   "metadata": {},
   "source": [
    "## Fit Model and Save"
   ]
  },
  {
   "cell_type": "code",
   "execution_count": 8,
   "metadata": {},
   "outputs": [
    {
     "name": "stdout",
     "output_type": "stream",
     "text": [
      "Train on 6699 samples, validate on 3301 samples\n",
      "Epoch 1/100\n",
      "6699/6699 [==============================] - 23s - loss: 152.8766 - acc: 0.3262 - val_loss: 0.4476 - val_acc: 0.5041\n",
      "Epoch 2/100\n",
      "6699/6699 [==============================] - 22s - loss: 0.6752 - acc: 0.4783 - val_loss: 0.4266 - val_acc: 0.5041\n",
      "Epoch 3/100\n",
      "6699/6699 [==============================] - 21s - loss: 0.5039 - acc: 0.5090 - val_loss: 0.4173 - val_acc: 0.5041.5\n",
      "Epoch 4/100\n",
      "6699/6699 [==============================] - 22s - loss: 0.4245 - acc: 0.5229 - val_loss: 0.4081 - val_acc: 0.5041\n",
      "Epoch 5/100\n",
      "6699/6699 [==============================] - 22s - loss: 0.3768 - acc: 0.5275 - val_loss: 0.3938 - val_acc: 0.5041\n"
     ]
    }
   ],
   "source": [
    "history = model.fit(x_train, y_train,\n",
    "                    validation_split=0.33,\n",
    "                    epochs=100,\n",
    "                    callbacks=callbacks_list,\n",
    "                    verbose=1)\n",
    "\n",
    "#save final model (redundant with checkpoints)\n",
    "model.save('model.h5')"
   ]
  },
  {
   "cell_type": "markdown",
   "metadata": {},
   "source": [
    "## Visualize Model Training Inline - Accuracy and Loss"
   ]
  },
  {
   "cell_type": "code",
   "execution_count": 9,
   "metadata": {},
   "outputs": [
    {
     "name": "stdout",
     "output_type": "stream",
     "text": [
      "dict_keys(['val_acc', 'acc', 'val_loss', 'loss'])\n"
     ]
    },
    {
     "data": {
      "image/png": "[encoded data removed]",
      "text/plain": [
       "<matplotlib.figure.Figure at 0x15ed58d9898>"
      ]
     },
     "metadata": {},
     "output_type": "display_data"
    }
   ],
   "source": [
    "print (history.history.keys())\n",
    "\n",
    "import matplotlib.pyplot as plt\n",
    "plt.figure(figsize=(16,4))\n",
    "\n",
    "# summarize history for accuracy\n",
    "plt.subplot(1, 2, 1)\n",
    "plt.plot(history.history['acc'])\n",
    "plt.plot(history.history['val_acc'])\n",
    "plt.title('model accuracy')\n",
    "plt.ylabel('accuracy')\n",
    "plt.xlabel('epoch')\n",
    "plt.legend(['train', 'test'], loc='upper left')\n",
    "\n",
    "# summarize history for loss\n",
    "plt.subplot(1, 2, 2)\n",
    "plt.plot(history.history['loss'])\n",
    "plt.plot(history.history['val_loss'])\n",
    "plt.title('model loss')\n",
    "plt.ylabel('loss')\n",
    "plt.xlabel('epoch')\n",
    "plt.legend(['train', 'test'], loc='upper left')\n",
    "plt.show(); "
   ]
  },
  {
   "cell_type": "markdown",
   "metadata": {},
   "source": [
    "## Tensorboard! \n",
    "\n",
    "** for dope ass visualizations type in terminal: **\n",
    "\n",
    "    tensorboard  --logdir logs/"
   ]
  }
 ],
 "metadata": {
  "kernelspec": {
   "display_name": "Python 3",
   "language": "python",
   "name": "python3"
  },
  "language_info": {
   "codemirror_mode": {
    "name": "ipython",
    "version": 3
   },
   "file_extension": ".py",
   "mimetype": "text/x-python",
   "name": "python",
   "nbconvert_exporter": "python",
   "pygments_lexer": "ipython3",
   "version": "3.5.2"
  },
  "widgets": {
   "state": {},
   "version": "1.1.2"
  }
 },
 "nbformat": 4,
 "nbformat_minor": 2
}
